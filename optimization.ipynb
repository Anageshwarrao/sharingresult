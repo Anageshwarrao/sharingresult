{
 "cells": [
  {
   "cell_type": "markdown",
   "metadata": {},
   "source": [
    "A company produces 3 products. Each unit of product 1,2, and 3 generate a profit of $10, $12 , and $12 respectively. \n",
    "Each product has to go through a manufacturing, assembly, and testing phase. \n",
    "The company’s resources are such that only 20 hours of manufacturing, 20 hours of assembly, and 20 hours of testing are available.\n",
    "Each unit of product 1 has to spend 1 hr in manufacturing, 2 hrs in assembly, and 2 hrs in testing. \n",
    "Each unit of product 2 has to spend 2 hrs in manufacturing, 1 hr in assembly, and 2 hrs in testing. \n",
    "Each unit of product 3 has to spend 2 hrs in manufacturing, 2 hrs in assembly, and 1 hr in testing. \n",
    "Company ABC wants to know how many units of each product it should produce, in order to maximize its profit"
   ]
  },
  {
   "cell_type": "markdown",
   "metadata": {},
   "source": [
    "Formulation\n",
    " \n",
    "Maximize(10X1 + 12X2 + 12X3)\n",
    "\n",
    "Subject to condition:\n",
    "\n",
    "X1 + 2X2 + 2X3 <= 20\n",
    "\n",
    "2X1 + X2 + 2X3 <= 20\n",
    "\n",
    "2X1 + 2X2 + X3 <= 20\n",
    "\n",
    "X1, X2 , X3 >=0"
   ]
  },
  {
   "cell_type": "code",
   "execution_count": 3,
   "metadata": {},
   "outputs": [
    {
     "name": "stderr",
     "output_type": "stream",
     "text": [
      "Warning message:\n",
      "\"package 'lpSolve' was built under R version 3.5.2\""
     ]
    },
    {
     "data": {
      "text/html": [
       "<ol class=list-inline>\n",
       "\t<li>10</li>\n",
       "\t<li>12</li>\n",
       "\t<li>12</li>\n",
       "</ol>\n"
      ],
      "text/latex": [
       "\\begin{enumerate*}\n",
       "\\item 10\n",
       "\\item 12\n",
       "\\item 12\n",
       "\\end{enumerate*}\n"
      ],
      "text/markdown": [
       "1. 10\n",
       "2. 12\n",
       "3. 12\n",
       "\n",
       "\n"
      ],
      "text/plain": [
       "[1] 10 12 12"
      ]
     },
     "metadata": {},
     "output_type": "display_data"
    }
   ],
   "source": [
    "library(lpSolve)\n",
    "\n",
    "### objective function ###\n",
    "objective.in  <- c(10, 12, 12)\n",
    "objective.in"
   ]
  },
  {
   "cell_type": "code",
   "execution_count": 4,
   "metadata": {},
   "outputs": [
    {
     "data": {
      "text/html": [
       "<table>\n",
       "<tbody>\n",
       "\t<tr><td>1</td><td>2</td><td>2</td></tr>\n",
       "\t<tr><td>2</td><td>1</td><td>2</td></tr>\n",
       "\t<tr><td>2</td><td>2</td><td>1</td></tr>\n",
       "</tbody>\n",
       "</table>\n"
      ],
      "text/latex": [
       "\\begin{tabular}{lll}\n",
       "\t 1 & 2 & 2\\\\\n",
       "\t 2 & 1 & 2\\\\\n",
       "\t 2 & 2 & 1\\\\\n",
       "\\end{tabular}\n"
      ],
      "text/markdown": [
       "\n",
       "| 1 | 2 | 2 | \n",
       "| 2 | 1 | 2 | \n",
       "| 2 | 2 | 1 | \n",
       "\n",
       "\n"
      ],
      "text/plain": [
       "     [,1] [,2] [,3]\n",
       "[1,] 1    2    2   \n",
       "[2,] 2    1    2   \n",
       "[3,] 2    2    1   "
      ]
     },
     "metadata": {},
     "output_type": "display_data"
    }
   ],
   "source": [
    "### constraints ###\n",
    "const <- matrix(c(1,  2, 2, 2, 1, 2, 2, 2, 1), nrow=3, byrow=TRUE)\n",
    "const"
   ]
  },
  {
   "cell_type": "code",
   "execution_count": 6,
   "metadata": {},
   "outputs": [],
   "source": [
    "### solution ###\n",
    "first_constraints <- 20\n",
    "second_constraints <- 20\n",
    "third_constraints <- 20"
   ]
  },
  {
   "cell_type": "code",
   "execution_count": 10,
   "metadata": {},
   "outputs": [],
   "source": [
    "### Forming the equations ###\n",
    "\n",
    "rhs <- c(first_constraints, second_constraints, third_constraints)\n",
    "direction  <- c(\"<=\", \"<=\", \"<=\")"
   ]
  },
  {
   "cell_type": "code",
   "execution_count": 11,
   "metadata": {},
   "outputs": [
    {
     "data": {
      "text/plain": [
       "Success: the objective function is 136 "
      ]
     },
     "metadata": {},
     "output_type": "display_data"
    }
   ],
   "source": [
    "optimum <-  lp(direction=\"max\",  objective.in, const, direction,  rhs)\n",
    "optimum"
   ]
  },
  {
   "cell_type": "code",
   "execution_count": 12,
   "metadata": {},
   "outputs": [
    {
     "data": {
      "text/plain": [
       "                 Length Class  Mode     \n",
       "direction         1     -none- numeric  \n",
       "x.count           1     -none- numeric  \n",
       "objective         3     -none- numeric  \n",
       "const.count       1     -none- numeric  \n",
       "constraints      15     -none- numeric  \n",
       "int.count         1     -none- numeric  \n",
       "int.vec           1     -none- numeric  \n",
       "bin.count         1     -none- numeric  \n",
       "binary.vec        1     -none- numeric  \n",
       "num.bin.solns     1     -none- numeric  \n",
       "objval            1     -none- numeric  \n",
       "solution          3     -none- numeric  \n",
       "presolve          1     -none- numeric  \n",
       "compute.sens      1     -none- numeric  \n",
       "sens.coef.from    1     -none- numeric  \n",
       "sens.coef.to      1     -none- numeric  \n",
       "duals             1     -none- numeric  \n",
       "duals.from        1     -none- numeric  \n",
       "duals.to          1     -none- numeric  \n",
       "scale             1     -none- numeric  \n",
       "use.dense         1     -none- numeric  \n",
       "dense.col         1     -none- numeric  \n",
       "dense.val         1     -none- numeric  \n",
       "dense.const.nrow  1     -none- numeric  \n",
       "dense.ctr         1     -none- numeric  \n",
       "use.rw            1     -none- numeric  \n",
       "tmp               1     -none- character\n",
       "status            1     -none- numeric  "
      ]
     },
     "metadata": {},
     "output_type": "display_data"
    }
   ],
   "source": [
    "summary(optimum)### solution value ###"
   ]
  },
  {
   "cell_type": "code",
   "execution_count": 13,
   "metadata": {},
   "outputs": [
    {
     "data": {
      "text/html": [
       "<ol class=list-inline>\n",
       "\t<li>4</li>\n",
       "\t<li>4</li>\n",
       "\t<li>4</li>\n",
       "</ol>\n"
      ],
      "text/latex": [
       "\\begin{enumerate*}\n",
       "\\item 4\n",
       "\\item 4\n",
       "\\item 4\n",
       "\\end{enumerate*}\n"
      ],
      "text/markdown": [
       "1. 4\n",
       "2. 4\n",
       "3. 4\n",
       "\n",
       "\n"
      ],
      "text/plain": [
       "[1] 4 4 4"
      ]
     },
     "metadata": {},
     "output_type": "display_data"
    }
   ],
   "source": [
    "### solution value ###\n",
    "optimum$solution"
   ]
  },
  {
   "cell_type": "code",
   "execution_count": 14,
   "metadata": {},
   "outputs": [
    {
     "data": {
      "text/html": [
       "136"
      ],
      "text/latex": [
       "136"
      ],
      "text/markdown": [
       "136"
      ],
      "text/plain": [
       "[1] 136"
      ]
     },
     "metadata": {},
     "output_type": "display_data"
    }
   ],
   "source": [
    "### max obj fn ###\n",
    "optimum$objval"
   ]
  }
 ],
 "metadata": {
  "kernelspec": {
   "display_name": "R",
   "language": "R",
   "name": "ir"
  },
  "language_info": {
   "codemirror_mode": "r",
   "file_extension": ".r",
   "mimetype": "text/x-r-source",
   "name": "R",
   "pygments_lexer": "r",
   "version": "3.5.1"
  }
 },
 "nbformat": 4,
 "nbformat_minor": 2
}
